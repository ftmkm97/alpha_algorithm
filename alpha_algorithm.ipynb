{
  "cells": [
    {
      "cell_type": "markdown",
      "metadata": {
        "id": "sAH6a3wkEcW2"
      },
      "source": []
    },
    {
      "cell_type": "code",
      "execution_count": 2,
      "metadata": {
        "id": "BiZ9cwyfEcrQ"
      },
      "outputs": [],
      "source": [
        "import pandas as pd\n",
        "\n",
        "event_log = pd.read_csv('user_activity.csv')"
      ]
    },
    {
      "cell_type": "code",
      "execution_count": 26,
      "metadata": {
        "colab": {
          "base_uri": "https://localhost:8080/"
        },
        "id": "Xu-CMDH2md6J",
        "outputId": "a0c27521-9c22-4e99-b5b8-12da3107b24b"
      },
      "outputs": [
        {
          "name": "stdout",
          "output_type": "stream",
          "text": [
            "    case_id               start activity  user_id\n",
            "0        16 2017-09-01 09:00:00  Content    310.0\n",
            "1        16 2017-09-01 10:00:00  Content    310.0\n",
            "2        16 2017-09-01 11:00:00      Web    310.0\n",
            "3        17 2017-09-02 09:00:00      Web    310.0\n",
            "4        17 2017-09-02 10:00:00      Web    310.0\n",
            "..      ...                 ...      ...      ...\n",
            "130      s4 2017-09-30 10:00:00      Web    310.0\n",
            "131      s4 2017-09-30 11:00:00  Nothing    310.0\n",
            "132      s5 2017-10-01 09:00:00   EduRef    310.0\n",
            "133      s5 2017-10-01 10:00:00  OpsProf    310.0\n",
            "134      s5 2017-10-01 11:00:00  Content    310.0\n",
            "\n",
            "[135 rows x 4 columns]\n"
          ]
        }
      ],
      "source": [
        "event_log.dropna(inplace=True)  \n",
        "\n",
        "event_log['start'] = pd.to_datetime(event_log['start'])\n",
        "\n",
        "\n",
        "event_log.sort_values(['case_id', 'start'], inplace=True)\n",
        "\n",
        "event_log.reset_index(drop=True, inplace=True)\n",
        "print(event_log)"
      ]
    },
    {
      "cell_type": "code",
      "execution_count": 25,
      "metadata": {
        "colab": {
          "base_uri": "https://localhost:8080/"
        },
        "id": "J5YNBHFBonAk",
        "outputId": "e38edbf1-4594-40c8-b0da-fc11affe5be7"
      },
      "outputs": [
        {
          "name": "stdout",
          "output_type": "stream",
          "text": [
            "Case ID: 16\n",
            "Activities: ['Content', 'Content', 'Web']\n",
            "\n",
            "Case ID: 17\n",
            "Activities: ['Web', 'Web', 'Content']\n",
            "\n",
            "Case ID: 18\n",
            "Activities: ['Content', 'Content', 'Web']\n",
            "\n",
            "Case ID: 19\n",
            "Activities: ['Web', 'Web', 'Content']\n",
            "\n",
            "Case ID: 20\n",
            "Activities: ['Content', 'Content', 'Web']\n",
            "\n",
            "Case ID: 21\n",
            "Activities: ['Web', 'Web', 'Content']\n",
            "\n",
            "Case ID: 22\n",
            "Activities: ['OpsProf', 'Web', 'Web', 'Content']\n",
            "\n",
            "Case ID: 23\n",
            "Activities: ['Web', 'Nothing', 'Nothing']\n",
            "\n",
            "Case ID: 24\n",
            "Activities: ['Web', 'Web', 'Content', 'Nothing']\n",
            "\n",
            "Case ID: 25\n",
            "Activities: ['Web', 'Web', 'Content']\n",
            "\n",
            "Case ID: 26\n",
            "Activities: ['Content', 'Content', 'Web']\n",
            "\n",
            "Case ID: 27\n",
            "Activities: ['Web', 'Web', 'Content']\n",
            "\n",
            "Case ID: 28\n",
            "Activities: ['Content', 'Content', 'Web']\n",
            "\n",
            "Case ID: 29\n",
            "Activities: ['Nothing', 'Web', 'Content']\n",
            "\n",
            "Case ID: 30\n",
            "Activities: ['Content', 'Content', 'Web']\n",
            "\n",
            "Case ID: 31\n",
            "Activities: ['Web', 'Web', 'Content']\n",
            "\n",
            "Case ID: 32\n",
            "Activities: ['Content', 'Content', 'Web']\n",
            "\n",
            "Case ID: 33\n",
            "Activities: ['Web', 'Web', 'Content']\n",
            "\n",
            "Case ID: 34\n",
            "Activities: ['Content', 'Content', 'Web']\n",
            "\n",
            "Case ID: 35\n",
            "Activities: ['Web', 'Web', 'Content', 'Web']\n",
            "\n",
            "Case ID: 36\n",
            "Activities: ['Web', 'Web', 'Content', 'OpsProf']\n",
            "\n",
            "Case ID: 37\n",
            "Activities: ['OpsProf', 'OpsProf', 'Content', 'Web', 'OpsProf']\n",
            "\n",
            "Case ID: 38\n",
            "Activities: ['Web', 'OpsProf', 'Content', 'Web', 'Nothing']\n",
            "\n",
            "Case ID: 39\n",
            "Activities: ['Content', 'Content', 'Web']\n",
            "\n",
            "Case ID: 40\n",
            "Activities: ['Web', 'Web', 'Content']\n",
            "\n",
            "Case ID: 41\n",
            "Activities: ['Content', 'Content', 'Web']\n",
            "\n",
            "Case ID: 42\n",
            "Activities: ['Web', 'Web', 'Content']\n",
            "\n",
            "Case ID: 43\n",
            "Activities: ['FM', 'PlatMgmtOs', 'Web', 'Web', 'OpsProf']\n",
            "\n",
            "Case ID: 44\n",
            "Activities: ['PlatMgmtOs', 'Nothing', 'Content', 'Content', 'OpsProf']\n",
            "\n",
            "Case ID: 45\n",
            "Activities: ['Web', 'Web', 'Content']\n",
            "\n",
            "Case ID: m1\n",
            "Activities: ['Comm', 'OpsProf', 'FM', 'Nothing']\n",
            "\n",
            "Case ID: m2\n",
            "Activities: ['Comm', 'Comm', 'EduRef', 'Nothing']\n",
            "\n",
            "Case ID: m3\n",
            "Activities: ['Comm', 'FM', 'OpsProf', 'EduRef', 'Nothing']\n",
            "\n",
            "Case ID: m4\n",
            "Activities: ['HomeE11t', 'EduRef']\n",
            "\n",
            "Case ID: m5\n",
            "Activities: ['Comm', 'Comm', 'Comm', 'Web', 'EduRef']\n",
            "\n",
            "Case ID: s1\n",
            "Activities: ['Content', 'Web', 'Nothing']\n",
            "\n",
            "Case ID: s2\n",
            "Activities: ['OpsProf', 'Content']\n",
            "\n",
            "Case ID: s3\n",
            "Activities: ['Comm', 'Web', 'Nothing']\n",
            "\n",
            "Case ID: s4\n",
            "Activities: ['Web', 'Nothing']\n",
            "\n",
            "Case ID: s5\n",
            "Activities: ['EduRef', 'OpsProf', 'Content']\n",
            "\n"
          ]
        }
      ],
      "source": [
        "traces = {}\n",
        "grouped = event_log.groupby('case_id')['activity'].apply(list)\n",
        "\n",
        "for case_id, activities in grouped.items():\n",
        "\n",
        "    traces[case_id] = activities\n",
        "\n",
        "for case_id, activities in traces.items():\n",
        "    print(\"Case ID:\", case_id)\n",
        "    print(\"Activities:\", activities)\n",
        "    print()"
      ]
    },
    {
      "cell_type": "code",
      "execution_count": 6,
      "metadata": {
        "colab": {
          "base_uri": "https://localhost:8080/"
        },
        "id": "uPQ6TKfbotFg",
        "outputId": "be0ec1bc-2eb0-47c0-8f82-1435eca8fcb6"
      },
      "outputs": [
        {
          "name": "stdout",
          "output_type": "stream",
          "text": [
            "Traces: [('Content', 'Web'), ('Content', 'Web'), ('Content', 'Web'), ('Content', 'Web'), ('Content', 'Web'), ('Content', 'Web'), ('Content', 'OpsProf', 'Web'), ('Web', 'Nothing'), ('Content', 'Web', 'Nothing'), ('Content', 'Web'), ('Content', 'Web'), ('Content', 'Web'), ('Content', 'Web'), ('Content', 'Web', 'Nothing'), ('Content', 'Web'), ('Content', 'Web'), ('Content', 'Web'), ('Content', 'Web'), ('Content', 'Web'), ('Content', 'Web'), ('Content', 'OpsProf', 'Web'), ('Content', 'OpsProf', 'Web'), ('Content', 'OpsProf', 'Web', 'Nothing'), ('Content', 'Web'), ('Content', 'Web'), ('Content', 'Web'), ('Content', 'Web'), ('PlatMgmtOs', 'Web', 'FM', 'OpsProf'), ('Content', 'PlatMgmtOs', 'Nothing', 'OpsProf'), ('Content', 'Web'), ('OpsProf', 'Comm', 'FM', 'Nothing'), ('EduRef', 'Comm', 'Nothing'), ('FM', 'Nothing', 'EduRef', 'OpsProf', 'Comm'), ('HomeE11t', 'EduRef'), ('Web', 'EduRef', 'Comm'), ('Content', 'Web', 'Nothing'), ('Content', 'OpsProf'), ('Web', 'Comm', 'Nothing'), ('Web', 'Nothing'), ('EduRef', 'OpsProf', 'Content')]\n",
            "Number of traces: 40\n"
          ]
        }
      ],
      "source": [
        "traces=[]\n",
        "\n",
        "grouped = event_log.groupby('case_id')['activity'].apply(lambda x: list(set(x)))\n",
        "\n",
        "for _, activities in grouped.items():\n",
        "\n",
        "    traces.append(tuple(activities))\n",
        "\n",
        "\n",
        "print(\"Traces:\", traces)\n",
        "\n",
        "traces = list(list(traces))\n",
        "print(\"Number of traces:\", len(traces))"
      ]
    },
    {
      "cell_type": "code",
      "execution_count": 24,
      "metadata": {
        "colab": {
          "base_uri": "https://localhost:8080/"
        },
        "id": "XpkuE66poywc",
        "outputId": "8c806697-4b35-480d-f06e-4dc86a4af085"
      },
      "outputs": [
        {
          "name": "stdout",
          "output_type": "stream",
          "text": [
            "Trace: [('Web', 'EduRef', 'Comm'), ('PlatMgmtOs', 'Web', 'FM', 'OpsProf'), ('Web', 'Nothing'), ('Content', 'Web', 'Nothing'), ('Content', 'PlatMgmtOs', 'Nothing', 'OpsProf'), ('OpsProf', 'Comm', 'FM', 'Nothing'), ('Content', 'OpsProf'), ('Content', 'OpsProf', 'Web', 'Nothing'), ('EduRef', 'OpsProf', 'Content'), ('Content', 'OpsProf', 'Web'), ('HomeE11t', 'EduRef'), ('Content', 'Web'), ('EduRef', 'Comm', 'Nothing'), ('Web', 'Comm', 'Nothing'), ('FM', 'Nothing', 'EduRef', 'OpsProf', 'Comm')]\n",
            "Number of traces1: 15\n"
          ]
        }
      ],
      "source": [
        "traces1= []\n",
        "\n",
        "grouped = event_log.groupby('case_id')['activity'].apply(lambda x: list(set(x)))\n",
        "\n",
        "for _, activities in grouped.items():\n",
        "    traces1.append(tuple(activities))\n",
        "\n",
        "\n",
        "\n",
        "traces1 = list(set(traces1))\n",
        "\n",
        "\n",
        "print(\"Trace:\", traces1)\n",
        "\n",
        "traces = list(set(traces))\n",
        "print(\"Number of traces1:\", len(traces1))\n"
      ]
    },
    {
      "cell_type": "code",
      "execution_count": 8,
      "metadata": {
        "colab": {
          "base_uri": "https://localhost:8080/"
        },
        "id": "dmypB6GHo6Nw",
        "outputId": "953b9356-7ba5-4cd9-eb56-48c90ada80e6"
      },
      "outputs": [
        {
          "name": "stdout",
          "output_type": "stream",
          "text": [
            "[['#' '->' '#' '#' '#' '#' '#' '#' '#']\n",
            " ['#' '#' '#' '->' '->' '#' '->' '#' '#']\n",
            " ['#' '#' '#' '->' '#' '#' '#' '#' '#']\n",
            " ['#' '#' '#' '#' '#' '#' '#' '#' '#']\n",
            " ['#' '#' '#' '#' '#' '->' '->' '#' '#']\n",
            " ['#' '#' '#' '#' '#' '#' '->' '#' '#']\n",
            " ['#' '#' '#' '#' '#' '#' '#' '#' '#']\n",
            " ['#' '#' '#' '#' '->' '#' '#' '#' '#']\n",
            " ['->' '->' '#' '#' '#' '->' '#' '#' '#']]\n"
          ]
        }
      ],
      "source": [
        "import numpy as np\n",
        "\n",
        "traces1 = list(set(traces1))\n",
        "\n",
        "\n",
        "places = set()\n",
        "for tpl in traces1:\n",
        "    places.update(tpl)\n",
        "\n",
        "\n",
        "num_places = len(places)\n",
        "\n",
        "\n",
        "footprint_matrix = np.empty((num_places, num_places), dtype=object)\n",
        "footprint_matrix[:] = '#'\n",
        "\n",
        "\n",
        "for tpl in traces1:\n",
        "    x = tpl[0]\n",
        "    y = tpl[1]\n",
        "\n",
        "\n",
        "    x_idx = list(places).index(x)\n",
        "    y_idx = list(places).index(y)\n",
        "\n",
        "\n",
        "    footprint_matrix[x_idx, y_idx] = '->'\n",
        "\n",
        "\n",
        "for i in range(num_places):\n",
        "    for j in range(num_places):\n",
        "        if footprint_matrix[i, j] == '#' and i != j:\n",
        "            for tpl in traces:\n",
        "                x = tpl[0]\n",
        "                y = tpl[1]\n",
        "\n",
        "\n",
        "                x_idx = list(places).index(x)\n",
        "                y_idx = list(places).index(y)\n",
        "\n",
        "                if x_idx == i and y_idx == j:\n",
        "                    footprint_matrix[i, j] = '#'\n",
        "\n",
        "\n",
        "        if footprint_matrix[i, j] == '->' and footprint_matrix[j, i] == '->':\n",
        "            footprint_matrix[i, j] = '||'\n",
        "\n",
        "print(footprint_matrix)\n"
      ]
    },
    {
      "cell_type": "code",
      "execution_count": 9,
      "metadata": {
        "colab": {
          "base_uri": "https://localhost:8080/"
        },
        "id": "Z1ybVATipfBO",
        "outputId": "fc0dad89-0d88-4892-8ec0-7b5b198e1687"
      },
      "outputs": [
        {
          "name": "stdout",
          "output_type": "stream",
          "text": [
            "Transactions: ['Content' 'Web' 'OpsProf' 'Nothing' 'FM' 'PlatMgmtOs' 'Comm' 'EduRef'\n",
            " 'HomeE11t']\n"
          ]
        }
      ],
      "source": [
        "#step1\n",
        "Transaction = event_log['activity'].unique()\n",
        "\n",
        "print(\"Transactions:\" ,Transaction )"
      ]
    },
    {
      "cell_type": "code",
      "execution_count": 10,
      "metadata": {
        "colab": {
          "base_uri": "https://localhost:8080/"
        },
        "id": "PbzaQTBipkR7",
        "outputId": "62ea8d82-da61-486b-8a82-d30e78eaae8f"
      },
      "outputs": [
        {
          "name": "stdout",
          "output_type": "stream",
          "text": [
            "Number of Transaction: 9\n"
          ]
        }
      ],
      "source": [
        "Transaction = list(set(Transaction))\n",
        "print(\"Number of Transaction:\", len(Transaction))"
      ]
    },
    {
      "cell_type": "code",
      "execution_count": 22,
      "metadata": {
        "colab": {
          "base_uri": "https://localhost:8080/"
        },
        "id": "VjFicdgqps1I",
        "outputId": "a8da2f16-0a1f-4ff9-8241-d5af29824c58"
      },
      "outputs": [
        {
          "name": "stdout",
          "output_type": "stream",
          "text": [
            "TI: {'PlatMgmtOs', 'Web', 'FM', 'EduRef', 'OpsProf', 'HomeE11t', 'Content'}\n"
          ]
        }
      ],
      "source": [
        "#step2\n",
        "traces1 = list(set(traces1))\n",
        "TI = set(activity[0] for activity in traces1)\n",
        "print(\"TI:\", TI)"
      ]
    },
    {
      "cell_type": "code",
      "execution_count": 23,
      "metadata": {
        "colab": {
          "base_uri": "https://localhost:8080/"
        },
        "id": "mkNI1lrxqhiS",
        "outputId": "2855f82e-910f-406f-f7b3-ff92914da25c"
      },
      "outputs": [
        {
          "name": "stdout",
          "output_type": "stream",
          "text": [
            "TO: {'Web', 'Nothing', 'EduRef', 'OpsProf', 'Comm', 'Content'}\n"
          ]
        }
      ],
      "source": [
        "#step3\n",
        "TO = set(activity[-1] for activity in traces1)\n",
        "print(\"TO:\", TO)"
      ]
    },
    {
      "cell_type": "code",
      "execution_count": 27,
      "metadata": {
        "colab": {
          "base_uri": "https://localhost:8080/"
        },
        "id": "_3FX8vB8qmud",
        "outputId": "494289ab-7ac9-46e5-9cf2-bd38669f1823"
      },
      "outputs": [
        {
          "name": "stdout",
          "output_type": "stream",
          "text": [
            "xl: {('Content', 'OpsProf')}\n"
          ]
        }
      ],
      "source": [
        "#step4\n",
        "places = {}\n",
        "\n",
        "grouped = event_log.groupby('case_id')['activity'].apply(lambda x: list(set(x)))\n",
        "\n",
        "for _, activities in grouped.items():\n",
        "    for i, activity in enumerate(activities):\n",
        "        if i > 0 and i < len(activities) - 1:\n",
        "\n",
        "            prev_activity = activities[i - 1]\n",
        "            next_activity = activities[i + 1]     \n",
        "\n",
        "            if activity not in places:\n",
        "                places[activity] = set()\n",
        "\n",
        "            if prev_activity in places[activity]:\n",
        "                places[activity].remove(prev_activity)\n",
        "            \n",
        "            places[activity].add(next_activity)\n",
        "\n",
        "xl = set()\n",
        "for activity, related_activities in places.items():\n",
        "    for prev_activity in related_activities:\n",
        "        if prev_activity not in places:\n",
        "            xl.add((prev_activity, activity))\n",
        "print(\"xl:\",xl)"
      ]
    },
    {
      "cell_type": "code",
      "execution_count": 28,
      "metadata": {
        "colab": {
          "base_uri": "https://localhost:8080/"
        },
        "id": "q39SChoPquoj",
        "outputId": "a034de0b-1ae3-4991-fbe9-a1b2afe3d027"
      },
      "outputs": [
        {
          "name": "stdout",
          "output_type": "stream",
          "text": [
            "YL: ({'Content'}, {'OpsProf'})\n"
          ]
        }
      ],
      "source": [
        "#step5\n",
        "\n",
        "non_common_second_activities = {}\n",
        "common_first_activities = set()\n",
        "\n",
        "\n",
        "for activity_tuple in xl:\n",
        "    first_activity = activity_tuple[0]\n",
        "    second_activity = activity_tuple[1]\n",
        "    \n",
        "\n",
        "    if second_activity not in non_common_second_activities:\n",
        "        non_common_second_activities[second_activity] = set()\n",
        "    non_common_second_activities[second_activity].add(first_activity)\n",
        "    \n",
        "\n",
        "    common_first_activities.add(first_activity)\n",
        "\n",
        "\n",
        "YL = (common_first_activities, set(non_common_second_activities.keys()))\n",
        "\n",
        "\n",
        "print(\"YL:\", YL)"
      ]
    },
    {
      "cell_type": "code",
      "execution_count": 41,
      "metadata": {
        "colab": {
          "base_uri": "https://localhost:8080/"
        },
        "id": "comAho26q3Fp",
        "outputId": "312628c8-42e3-4271-ba4d-c048e4903e90"
      },
      "outputs": [
        {
          "name": "stdout",
          "output_type": "stream",
          "text": [
            "FL: [('Content', 'PLACE1'), ('Nothing', 'io'), ('OpsProf', 'io'), ('Content', 'io'), ('Web', 'io'), ('Comm', 'io'), ('EduRef', 'io'), ('il', 'HomeE11t'), ('il', 'Content'), ('il', 'OpsProf'), ('PLACE2', 'Nothing'), ('il', 'PlatMgmtOs'), ('il', 'Web'), ('PLACE1', 'OpsProf'), ('il', 'EduRef'), ('PLACE2', 'Comm'), ('il', 'FM')]\n"
          ]
        }
      ],
      "source": [
        "#step6,7\n",
        "FL = set()\n",
        "TI = set(activity[0] for activity in traces1)\n",
        "TO = set(activity[-1] for activity in traces1)\n",
        "common_activities = YL[0]\n",
        "non_common_activities = YL[1]\n",
        "\n",
        "for activity in TI:\n",
        "    FL.add(('il', activity))\n",
        "for common_activity in common_activities:\n",
        "    FL.add((common_activity,'PLACE1' )) \n",
        "for non_common_activity in non_common_activities:\n",
        "    FL.add(('PLACE1', non_common_activity ))\n",
        "\n",
        "for non_common_activity in non_common_activities:\n",
        "    FL.add((non_common_activity, 'io' ))\n",
        "for activity in TO:\n",
        "    FL.add((activity, 'io'))\n",
        "\n",
        "DIF = set()\n",
        "for activity in TO:\n",
        "    if activity not in TI:\n",
        "        DIF.add(activity)\n",
        "for activity in DIF:\n",
        "    FL.add(('PLACE2',activity ))   \n",
        "\n",
        "sorted_FL = sorted(FL, key=lambda x: (x[1] != 'il', x[1] != 'PLACE1', x[1] != 'PLACE2', x[1] != 'io'))\n",
        "\n",
        "print(\"FL:\", sorted_FL)"
      ]
    },
    {
      "cell_type": "code",
      "execution_count": 42,
      "metadata": {
        "colab": {
          "base_uri": "https://localhost:8080/",
          "height": 544
        },
        "id": "prjr3BoyznM7",
        "outputId": "52441e0b-8fbd-42d8-956b-bb4100d31b0e"
      },
      "outputs": [
        {
          "name": "stdout",
          "output_type": "stream",
          "text": [
            "α(L) = (PL, TL , FL)\n"
          ]
        },
        {
          "data": {
            "image/png": "[encoded data removed]",
            "text/plain": [
              "<IPython.core.display.Image object>"
            ]
          },
          "execution_count": 42,
          "metadata": {},
          "output_type": "execute_result"
        }
      ],
      "source": [
        "import pygraphviz as pgv\n",
        "from IPython.display import Image\n",
        "print(\"α(L) = (PL, TL , FL)\")\n",
        "\n",
        "graph = pgv.AGraph(directed=True)\n",
        "\n",
        "\n",
        "PL = ['il', 'PLACE1','PLACE2', 'io']\n",
        "for place in PL:\n",
        "    graph.add_node(place, shape='circle')\n",
        "\n",
        "\n",
        "\n",
        "TL =  {'Content', 'Web', 'OpsProf', 'Nothing', 'PlatMgmtOs', 'Comm', 'EduRef','HomeE11t', 'FM'}\n",
        "for activity in TL:\n",
        "    TL.add(activity)\n",
        "    graph.add_node(activity, shape='box')\n",
        "\n",
        "for activity, place in sorted_FL:\n",
        "    graph.add_edge(activity, place)\n",
        "\n",
        "\n",
        "graph.write('petri_net.dot')\n",
        "\n",
        "\n",
        "graph.layout(prog='dot')\n",
        "graph.draw('petri_net.png')\n",
        "\n",
        "\n",
        "Image('petri_net.png')\n"
      ]
    }
  ],
  "metadata": {
    "colab": {
      "provenance": []
    },
    "kernelspec": {
      "display_name": "Python 3",
      "name": "python3"
    },
    "language_info": {
      "name": "python"
    }
  },
  "nbformat": 4,
  "nbformat_minor": 0
}
